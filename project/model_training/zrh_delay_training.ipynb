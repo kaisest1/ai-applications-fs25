{
 "cells": [
  {
   "cell_type": "markdown",
   "id": "d5aa66da",
   "metadata": {},
   "source": [
    "# Compare Linear Regression with Random Forest"
   ]
  },
  {
   "cell_type": "markdown",
   "id": "96edde9a",
   "metadata": {},
   "source": [
    "## Libraries and settings"
   ]
  },
  {
   "cell_type": "code",
   "execution_count": 40,
   "id": "07d6b462",
   "metadata": {},
   "outputs": [],
   "source": [
    "# Libraries\n",
    "import numpy as np\n",
    "import pandas as pd\n",
    "import matplotlib.pyplot as plt\n",
    "from sklearn.ensemble import RandomForestRegressor\n",
    "from sklearn.linear_model import LinearRegression\n",
    "from sklearn.model_selection import train_test_split, cross_val_score\n",
    "from sklearn.metrics import root_mean_squared_error"
   ]
  },
  {
   "cell_type": "markdown",
   "id": "4cb7da55",
   "metadata": {},
   "source": [
    "## Import the flight delay data"
   ]
  },
  {
   "cell_type": "code",
   "execution_count": 20,
   "id": "7a8048c6",
   "metadata": {},
   "outputs": [
    {
     "name": "stdout",
     "output_type": "stream",
     "text": [
      "(1816, 13)\n"
     ]
    },
    {
     "data": {
      "text/html": [
       "<div>\n",
       "<style scoped>\n",
       "    .dataframe tbody tr th:only-of-type {\n",
       "        vertical-align: middle;\n",
       "    }\n",
       "\n",
       "    .dataframe tbody tr th {\n",
       "        vertical-align: top;\n",
       "    }\n",
       "\n",
       "    .dataframe thead th {\n",
       "        text-align: right;\n",
       "    }\n",
       "</style>\n",
       "<table border=\"1\" class=\"dataframe\">\n",
       "  <thead>\n",
       "    <tr style=\"text-align: right;\">\n",
       "      <th></th>\n",
       "      <th>DESTINATION</th>\n",
       "      <th>IATA_CODE</th>\n",
       "      <th>AIRLINE</th>\n",
       "      <th>AIRCRAFT</th>\n",
       "      <th>DATETIME</th>\n",
       "      <th>DEPART_TIME</th>\n",
       "      <th>DEPART_DATETIME</th>\n",
       "      <th>DELAY_MINUTES</th>\n",
       "      <th>WEATHER</th>\n",
       "      <th>TEMP</th>\n",
       "      <th>DEST_CODE</th>\n",
       "      <th>AIRLINE_CODE</th>\n",
       "      <th>AIRCRAFT_CODE</th>\n",
       "    </tr>\n",
       "  </thead>\n",
       "  <tbody>\n",
       "    <tr>\n",
       "      <th>0</th>\n",
       "      <td>Larnaca</td>\n",
       "      <td>LCA</td>\n",
       "      <td>Edelweiss Air</td>\n",
       "      <td>A320</td>\n",
       "      <td>2025-04-28 05:45:00</td>\n",
       "      <td>06:02</td>\n",
       "      <td>2025-04-28 06:02:00</td>\n",
       "      <td>17</td>\n",
       "      <td>5</td>\n",
       "      <td>5.4</td>\n",
       "      <td>88</td>\n",
       "      <td>34</td>\n",
       "      <td>3</td>\n",
       "    </tr>\n",
       "    <tr>\n",
       "      <th>1</th>\n",
       "      <td>Pristina</td>\n",
       "      <td>PRN</td>\n",
       "      <td>Chair Airlines</td>\n",
       "      <td>A319</td>\n",
       "      <td>2025-04-28 05:45:00</td>\n",
       "      <td>06:00</td>\n",
       "      <td>2025-04-28 06:00:00</td>\n",
       "      <td>15</td>\n",
       "      <td>5</td>\n",
       "      <td>5.4</td>\n",
       "      <td>134</td>\n",
       "      <td>26</td>\n",
       "      <td>2</td>\n",
       "    </tr>\n",
       "    <tr>\n",
       "      <th>2</th>\n",
       "      <td>Olbia</td>\n",
       "      <td>OLB</td>\n",
       "      <td>Edelweiss Air</td>\n",
       "      <td>A320</td>\n",
       "      <td>2025-04-28 06:25:00</td>\n",
       "      <td>06:45</td>\n",
       "      <td>2025-04-28 06:45:00</td>\n",
       "      <td>20</td>\n",
       "      <td>5</td>\n",
       "      <td>6.4</td>\n",
       "      <td>121</td>\n",
       "      <td>34</td>\n",
       "      <td>3</td>\n",
       "    </tr>\n",
       "    <tr>\n",
       "      <th>3</th>\n",
       "      <td>Marrakesh</td>\n",
       "      <td>RAK</td>\n",
       "      <td>Edelweiss Air</td>\n",
       "      <td>A320</td>\n",
       "      <td>2025-04-28 06:25:00</td>\n",
       "      <td>06:35</td>\n",
       "      <td>2025-04-28 06:35:00</td>\n",
       "      <td>10</td>\n",
       "      <td>5</td>\n",
       "      <td>6.4</td>\n",
       "      <td>103</td>\n",
       "      <td>34</td>\n",
       "      <td>3</td>\n",
       "    </tr>\n",
       "    <tr>\n",
       "      <th>4</th>\n",
       "      <td>Madrid</td>\n",
       "      <td>MAD</td>\n",
       "      <td>Helvetic Airways</td>\n",
       "      <td>E295</td>\n",
       "      <td>2025-04-28 06:55:00</td>\n",
       "      <td>07:13</td>\n",
       "      <td>2025-04-28 07:13:00</td>\n",
       "      <td>18</td>\n",
       "      <td>5</td>\n",
       "      <td>6.4</td>\n",
       "      <td>97</td>\n",
       "      <td>57</td>\n",
       "      <td>44</td>\n",
       "    </tr>\n",
       "    <tr>\n",
       "      <th>5</th>\n",
       "      <td>Belgrade</td>\n",
       "      <td>BEG</td>\n",
       "      <td>Swiss</td>\n",
       "      <td>BCS3</td>\n",
       "      <td>2025-04-28 06:55:00</td>\n",
       "      <td>07:14</td>\n",
       "      <td>2025-04-28 07:14:00</td>\n",
       "      <td>19</td>\n",
       "      <td>5</td>\n",
       "      <td>6.4</td>\n",
       "      <td>16</td>\n",
       "      <td>88</td>\n",
       "      <td>24</td>\n",
       "    </tr>\n",
       "    <tr>\n",
       "      <th>6</th>\n",
       "      <td>Frankfurt</td>\n",
       "      <td>FRA</td>\n",
       "      <td>Helvetic Airways</td>\n",
       "      <td>E190</td>\n",
       "      <td>2025-04-28 06:55:00</td>\n",
       "      <td>07:06</td>\n",
       "      <td>2025-04-28 07:06:00</td>\n",
       "      <td>11</td>\n",
       "      <td>5</td>\n",
       "      <td>6.4</td>\n",
       "      <td>61</td>\n",
       "      <td>57</td>\n",
       "      <td>41</td>\n",
       "    </tr>\n",
       "    <tr>\n",
       "      <th>7</th>\n",
       "      <td>London</td>\n",
       "      <td>LCY</td>\n",
       "      <td>Swiss</td>\n",
       "      <td>BCS1</td>\n",
       "      <td>2025-04-28 06:55:00</td>\n",
       "      <td>07:34</td>\n",
       "      <td>2025-04-28 07:34:00</td>\n",
       "      <td>39</td>\n",
       "      <td>5</td>\n",
       "      <td>6.4</td>\n",
       "      <td>92</td>\n",
       "      <td>88</td>\n",
       "      <td>23</td>\n",
       "    </tr>\n",
       "    <tr>\n",
       "      <th>8</th>\n",
       "      <td>Palma de Mallorca</td>\n",
       "      <td>PMI</td>\n",
       "      <td>Swiss</td>\n",
       "      <td>A321</td>\n",
       "      <td>2025-04-28 06:50:00</td>\n",
       "      <td>07:11</td>\n",
       "      <td>2025-04-28 07:11:00</td>\n",
       "      <td>21</td>\n",
       "      <td>5</td>\n",
       "      <td>6.4</td>\n",
       "      <td>125</td>\n",
       "      <td>88</td>\n",
       "      <td>4</td>\n",
       "    </tr>\n",
       "    <tr>\n",
       "      <th>9</th>\n",
       "      <td>Brindisi</td>\n",
       "      <td>BDS</td>\n",
       "      <td>Swiss</td>\n",
       "      <td>A320</td>\n",
       "      <td>2025-04-28 06:50:00</td>\n",
       "      <td>07:17</td>\n",
       "      <td>2025-04-28 07:17:00</td>\n",
       "      <td>27</td>\n",
       "      <td>5</td>\n",
       "      <td>6.4</td>\n",
       "      <td>29</td>\n",
       "      <td>88</td>\n",
       "      <td>3</td>\n",
       "    </tr>\n",
       "  </tbody>\n",
       "</table>\n",
       "</div>"
      ],
      "text/plain": [
       "         DESTINATION IATA_CODE           AIRLINE AIRCRAFT  \\\n",
       "0            Larnaca       LCA     Edelweiss Air     A320   \n",
       "1           Pristina       PRN    Chair Airlines     A319   \n",
       "2              Olbia       OLB     Edelweiss Air     A320   \n",
       "3          Marrakesh       RAK     Edelweiss Air     A320   \n",
       "4             Madrid       MAD  Helvetic Airways     E295   \n",
       "5           Belgrade       BEG             Swiss     BCS3   \n",
       "6          Frankfurt       FRA  Helvetic Airways     E190   \n",
       "7             London       LCY             Swiss     BCS1   \n",
       "8  Palma de Mallorca       PMI             Swiss     A321   \n",
       "9           Brindisi       BDS             Swiss     A320   \n",
       "\n",
       "              DATETIME DEPART_TIME      DEPART_DATETIME  DELAY_MINUTES  \\\n",
       "0  2025-04-28 05:45:00       06:02  2025-04-28 06:02:00             17   \n",
       "1  2025-04-28 05:45:00       06:00  2025-04-28 06:00:00             15   \n",
       "2  2025-04-28 06:25:00       06:45  2025-04-28 06:45:00             20   \n",
       "3  2025-04-28 06:25:00       06:35  2025-04-28 06:35:00             10   \n",
       "4  2025-04-28 06:55:00       07:13  2025-04-28 07:13:00             18   \n",
       "5  2025-04-28 06:55:00       07:14  2025-04-28 07:14:00             19   \n",
       "6  2025-04-28 06:55:00       07:06  2025-04-28 07:06:00             11   \n",
       "7  2025-04-28 06:55:00       07:34  2025-04-28 07:34:00             39   \n",
       "8  2025-04-28 06:50:00       07:11  2025-04-28 07:11:00             21   \n",
       "9  2025-04-28 06:50:00       07:17  2025-04-28 07:17:00             27   \n",
       "\n",
       "   WEATHER  TEMP  DEST_CODE  AIRLINE_CODE  AIRCRAFT_CODE  \n",
       "0        5   5.4         88            34              3  \n",
       "1        5   5.4        134            26              2  \n",
       "2        5   6.4        121            34              3  \n",
       "3        5   6.4        103            34              3  \n",
       "4        5   6.4         97            57             44  \n",
       "5        5   6.4         16            88             24  \n",
       "6        5   6.4         61            57             41  \n",
       "7        5   6.4         92            88             23  \n",
       "8        5   6.4        125            88              4  \n",
       "9        5   6.4         29            88              3  "
      ]
     },
     "execution_count": 20,
     "metadata": {},
     "output_type": "execute_result"
    }
   ],
   "source": [
    "# Read and select variables\n",
    "df_orig = pd.read_csv(\"zrh_flightdelay.csv\", sep=\",\", encoding='utf-8')\n",
    "\n",
    "# Remove missing values\n",
    "df = df_orig.dropna()\n",
    "# Remove duplicates\n",
    "df = df.drop_duplicates()\n",
    "\n",
    "print(df.shape)\n",
    "df.head(10)"
   ]
  },
  {
   "cell_type": "markdown",
   "id": "c4c84db1",
   "metadata": {},
   "source": [
    "## Train/Test splitting"
   ]
  },
  {
   "cell_type": "code",
   "execution_count": 34,
   "id": "70392669",
   "metadata": {},
   "outputs": [],
   "source": [
    "# Create train and test samples\n",
    "X_train, X_test, y_train, y_test = train_test_split(df[['DEST_CODE', 'AIRLINE_CODE', 'AIRCRAFT_CODE', 'WEATHER', 'TEMP']], \n",
    "                                                         df['DELAY_MINUTES'], \n",
    "                                                        test_size=0.20, \n",
    "                                                        random_state=42)"
   ]
  },
  {
   "cell_type": "code",
   "execution_count": 35,
   "id": "281587a0",
   "metadata": {},
   "outputs": [
    {
     "name": "stdout",
     "output_type": "stream",
     "text": [
      "Train score:  0.011183789050085324\n",
      "Test score:  -0.004938822492164263\n",
      "Train RMSE:  19.056396267044075\n",
      "Test RMSE:  14.383173426611272\n"
     ]
    }
   ],
   "source": [
    "# train linear_model = LinearRegression()\n",
    "linear_model = LinearRegression()\n",
    "\n",
    "# Fit the model\n",
    "linear_model.fit(X_train, y_train)\n",
    "print(\"Train score: \", linear_model.score(X_train, y_train))\n",
    "print(\"Test score: \", linear_model.score(X_test, y_test))\n",
    "\n",
    "print(\"Train RMSE: \", root_mean_squared_error(y_train, linear_model.predict(X_train)))\n",
    "print(\"Test RMSE: \", root_mean_squared_error(y_test, linear_model.predict(X_test)))\n",
    " "
   ]
  },
  {
   "cell_type": "code",
   "execution_count": 36,
   "id": "bb5fe1ab",
   "metadata": {},
   "outputs": [
    {
     "name": "stdout",
     "output_type": "stream",
     "text": [
      "Train score:  0.8489314795779879\n",
      "Test score:  -0.13848468795181867\n",
      "Train RMSE:  7.448519758061339\n",
      "Test RMSE:  15.309059182371634\n"
     ]
    }
   ],
   "source": [
    "# train random_forest_model = RandomForestRegressor()\n",
    "random_forest_model = RandomForestRegressor(random_state=42)\n",
    "\n",
    "# Fit the model\n",
    "random_forest_model.fit(X_train, y_train)\n",
    "print(\"Train score: \", random_forest_model.score(X_train, y_train))\n",
    "print(\"Test score: \", random_forest_model.score(X_test, y_test))\n",
    "\n",
    "print(\"Train RMSE: \", root_mean_squared_error(y_train, random_forest_model.predict(X_train)))\n",
    "print(\"Test RMSE: \", root_mean_squared_error(y_test, random_forest_model.predict(X_test)))"
   ]
  },
  {
   "cell_type": "code",
   "execution_count": 24,
   "id": "5ed44d2d",
   "metadata": {},
   "outputs": [
    {
     "name": "stdout",
     "output_type": "stream",
     "text": [
      "['TEMP' 'DEST_CODE' 'AIRLINE_CODE' 'AIRCRAFT_CODE' 'WEATHER']\n",
      "[0.31316001 0.26428315 0.20669436 0.15947466 0.05638782]\n"
     ]
    },
    {
     "data": {
      "text/plain": [
       "<Axes: ylabel='features'>"
      ]
     },
     "execution_count": 24,
     "metadata": {},
     "output_type": "execute_result"
    },
    {
     "data": {
      "image/png": "[encoded data removed]",
      "text/plain": [
       "<Figure size 600x300 with 1 Axes>"
      ]
     },
     "metadata": {},
     "output_type": "display_data"
    }
   ],
   "source": [
    "cols = random_forest_model.feature_names_in_\n",
    "\n",
    "# Derive feature importance from random forest\n",
    "importances = random_forest_model.feature_importances_\n",
    "std         = np.std([tree.feature_importances_ for tree in random_forest_model.estimators_], axis=0)\n",
    "indices     = np.argsort(importances)[::-1]\n",
    "\n",
    "# Print col-names and importances-values\n",
    "print( cols[indices] )\n",
    "print( importances[indices] )\n",
    "\n",
    "# Barplot with feature importance\n",
    "df_fi = pd.DataFrame({'features':cols,'importances': importances})\n",
    "df_fi.sort_values('importances', inplace=True)\n",
    "df_fi.plot(kind='barh', \n",
    "           y='importances',\n",
    "           x='features', \n",
    "           color='darkred', \n",
    "           figsize=(6,3))"
   ]
  },
  {
   "cell_type": "code",
   "execution_count": 15,
   "id": "8bb471d0",
   "metadata": {},
   "outputs": [],
   "source": [
    "# make predictions\n",
    "y_train_predict = random_forest_model.predict(X_train)\n",
    "residuals = y_train - y_train_predict"
   ]
  },
  {
   "cell_type": "code",
   "execution_count": 16,
   "id": "85bde2e8",
   "metadata": {},
   "outputs": [
    {
     "data": {
      "image/png": "[encoded data removed]",
      "text/plain": [
       "<Figure size 1000x600 with 1 Axes>"
      ]
     },
     "metadata": {},
     "output_type": "display_data"
    }
   ],
   "source": [
    "# Calculate residuals\n",
    "\n",
    "plt.figure(figsize=(10, 6))\n",
    "plt.scatter(y_train, residuals, alpha=0.5)\n",
    "plt.axhline(y=0, color='r', linestyle='--')\n",
    "plt.xlabel('Actual Prices')\n",
    "plt.ylabel('Residuals')\n",
    "plt.title('Residuals vs Actual Prices')\n",
    "plt.show()"
   ]
  },
  {
   "cell_type": "code",
   "execution_count": 17,
   "id": "3808982e",
   "metadata": {},
   "outputs": [
    {
     "data": {
      "image/png": "[encoded data removed]",
      "text/plain": [
       "<Figure size 800x400 with 1 Axes>"
      ]
     },
     "metadata": {},
     "output_type": "display_data"
    }
   ],
   "source": [
    "# Plot histogram of residuals\n",
    "fig = plt.figure( figsize=(8,4))\n",
    "n, bins, patches = plt.hist(x=residuals, \n",
    "                            bins=20, \n",
    "                            color='blue',\n",
    "                            alpha=0.5\n",
    "                   )\n",
    "\n",
    "# Set labels\n",
    "plt.xlabel('residuals', fontsize=10, labelpad=10)\n",
    "plt.ylabel('frequency', fontsize=10, labelpad=10)\n",
    "plt.title('Histogram of model residuals', fontsize=12, pad=10)\n",
    "\n",
    "plt.show()"
   ]
  },
  {
   "cell_type": "code",
   "execution_count": 37,
   "id": "380e84a7",
   "metadata": {},
   "outputs": [],
   "source": [
    "# Features (X) und Zielvariable (y) festlegen\n",
    "X = df[['DEST_CODE', 'AIRLINE_CODE', 'AIRCRAFT_CODE', 'WEATHER', 'TEMP']]  # Ersetze \"target\" mit dem Namen der Zielspalte\n",
    "y = df['DELAY_MINUTES']  # Ersetze \"target\" mit der tatsächlichen Zielspalte"
   ]
  },
  {
   "cell_type": "code",
   "execution_count": 41,
   "id": "b52b48ac",
   "metadata": {},
   "outputs": [
    {
     "name": "stdout",
     "output_type": "stream",
     "text": [
      "Cross-validation accuracy: -0.1130\n",
      "Training accuracy: 0.8419\n"
     ]
    }
   ],
   "source": [
    "# Trainiere das Modell (Verwendung von RandomForestRegressor für Preisvorhersage)\n",
    "model = RandomForestRegressor(random_state=42)\n",
    "cross_val_scores = cross_val_score(model, X, y, cv=5)\n",
    "print(f\"Cross-validation accuracy: {np.mean(cross_val_scores):.4f}\")\n",
    "\n",
    "# Train on the full dataset\n",
    "model.fit(X, y)\n",
    "train_accuracy = model.score(X, y)\n",
    "print(f\"Training accuracy: {train_accuracy:.4f}\")"
   ]
  },
  {
   "cell_type": "code",
   "execution_count": 52,
   "id": "e7d4ed11",
   "metadata": {},
   "outputs": [],
   "source": [
    "# Gradio-Vorhersagefunktion\n",
    "def predict(DEST_CODE, AIRLINE_CODE, AIRCRAFT_CODE, WEATHER, TEMP):\n",
    "    input_data = [[DEST_CODE, AIRLINE_CODE, AIRCRAFT_CODE, WEATHER, TEMP]]\n",
    "    prediction = model.predict(input_data)[0]\n",
    "    return round(prediction)"
   ]
  },
  {
   "cell_type": "code",
   "execution_count": 59,
   "id": "58a612c6",
   "metadata": {},
   "outputs": [
    {
     "name": "stderr",
     "output_type": "stream",
     "text": [
      "/home/codespace/.local/lib/python3.12/site-packages/sklearn/utils/validation.py:2739: UserWarning: X does not have valid feature names, but RandomForestRegressor was fitted with feature names\n",
      "  warnings.warn(\n"
     ]
    },
    {
     "data": {
      "text/plain": [
       "46"
      ]
     },
     "execution_count": 59,
     "metadata": {},
     "output_type": "execute_result"
    }
   ],
   "source": [
    "predict(12, 12, 88, 18, 5)"
   ]
  }
 ],
 "metadata": {
  "kernelspec": {
   "display_name": "Python 3",
   "language": "python",
   "name": "python3"
  },
  "language_info": {
   "codemirror_mode": {
    "name": "ipython",
    "version": 3
   },
   "file_extension": ".py",
   "mimetype": "text/x-python",
   "name": "python",
   "nbconvert_exporter": "python",
   "pygments_lexer": "ipython3",
   "version": "3.12.1"
  }
 },
 "nbformat": 4,
 "nbformat_minor": 5
}
